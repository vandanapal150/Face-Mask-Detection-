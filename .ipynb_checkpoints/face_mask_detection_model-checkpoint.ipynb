{
 "cells": [
  {
   "cell_type": "code",
   "execution_count": 1,
   "metadata": {},
   "outputs": [
    {
     "name": "stderr",
     "output_type": "stream",
     "text": [
      "Using TensorFlow backend.\n"
     ]
    }
   ],
   "source": [
    "import tensorflow as tf\n",
    "import keras\n",
    "from keras.preprocessing.image import ImageDataGenerator\n",
    "train_images = 'train'"
   ]
  },
  {
   "cell_type": "code",
   "execution_count": 2,
   "metadata": {},
   "outputs": [
    {
     "name": "stdout",
     "output_type": "stream",
     "text": [
      "Found 1314 images belonging to 2 classes.\n"
     ]
    }
   ],
   "source": [
    "train_datagen = ImageDataGenerator(\n",
    "    rescale=1./255,\n",
    "    rotation_range=40,\n",
    "    width_shift_range=0.2,\n",
    "    height_shift_range=0.2,\n",
    "    shear_range=0.2,\n",
    "    zoom_range=0.2,\n",
    "    horizontal_flip=True,\n",
    "    fill_mode='nearest'\n",
    ")\n",
    "train_set = train_datagen.flow_from_directory(train_images,\n",
    "                                             batch_size=10,\n",
    "                                             target_size=(150,150))"
   ]
  },
  {
   "cell_type": "code",
   "execution_count": 3,
   "metadata": {},
   "outputs": [
    {
     "name": "stdout",
     "output_type": "stream",
     "text": [
      "Found 194 images belonging to 2 classes.\n"
     ]
    }
   ],
   "source": [
    "test_images = 'test'\n",
    "test_datagen = ImageDataGenerator(rescale=1./255)\n",
    "test_set = test_datagen.flow_from_directory(test_images,\n",
    "                                             batch_size=10,\n",
    "                                             target_size=(150,150))"
   ]
  },
  {
   "cell_type": "code",
   "execution_count": 4,
   "metadata": {},
   "outputs": [],
   "source": [
    "from keras.models import Sequential\n",
    "from keras.layers import Conv2D, MaxPool2D, Dropout, Flatten, Dense"
   ]
  },
  {
   "cell_type": "code",
   "execution_count": 5,
   "metadata": {},
   "outputs": [
    {
     "name": "stdout",
     "output_type": "stream",
     "text": [
      "Model: \"sequential_1\"\n",
      "_________________________________________________________________\n",
      "Layer (type)                 Output Shape              Param #   \n",
      "=================================================================\n",
      "conv2d_1 (Conv2D)            (None, 148, 148, 100)     2800      \n",
      "_________________________________________________________________\n",
      "max_pooling2d_1 (MaxPooling2 (None, 74, 74, 100)       0         \n",
      "_________________________________________________________________\n",
      "conv2d_2 (Conv2D)            (None, 72, 72, 100)       90100     \n",
      "_________________________________________________________________\n",
      "max_pooling2d_2 (MaxPooling2 (None, 36, 36, 100)       0         \n",
      "_________________________________________________________________\n",
      "dropout_1 (Dropout)          (None, 36, 36, 100)       0         \n",
      "_________________________________________________________________\n",
      "flatten_1 (Flatten)          (None, 129600)            0         \n",
      "_________________________________________________________________\n",
      "dense_1 (Dense)              (None, 50)                6480050   \n",
      "_________________________________________________________________\n",
      "dense_2 (Dense)              (None, 2)                 102       \n",
      "=================================================================\n",
      "Total params: 6,573,052\n",
      "Trainable params: 6,573,052\n",
      "Non-trainable params: 0\n",
      "_________________________________________________________________\n"
     ]
    }
   ],
   "source": [
    "model = Sequential()\n",
    "model.add(Conv2D(filters=100, kernel_size=3, activation='relu', input_shape=(150,150,3)))\n",
    "model.add(MaxPool2D(pool_size=2, strides=2))\n",
    "model.add(Conv2D(filters=100, kernel_size=3, activation='relu'))\n",
    "model.add(MaxPool2D(pool_size=2, strides=2))\n",
    "model.add(Dropout(0.5))\n",
    "model.add(Flatten())\n",
    "model.add(Dense(50, activation='relu'))\n",
    "model.add(Dense(2, activation='softmax'))\n",
    "model.summary()"
   ]
  },
  {
   "cell_type": "code",
   "execution_count": 6,
   "metadata": {},
   "outputs": [],
   "source": [
    "model.compile(optimizer='adam', loss='binary_crossentropy', metrics=['accuracy'])"
   ]
  },
  {
   "cell_type": "code",
   "execution_count": 7,
   "metadata": {},
   "outputs": [
    {
     "name": "stdout",
     "output_type": "stream",
     "text": [
      "Epoch 1/10\n",
      "132/132 [==============================] - 215s 2s/step - loss: 0.5712 - accuracy: 0.7268 - val_loss: 0.1680 - val_accuracy: 0.9124\n",
      "Epoch 2/10\n",
      "132/132 [==============================] - 206s 2s/step - loss: 0.2859 - accuracy: 0.8950 - val_loss: 0.4514 - val_accuracy: 0.9485\n",
      "Epoch 3/10\n",
      "132/132 [==============================] - 206s 2s/step - loss: 0.2726 - accuracy: 0.8912 - val_loss: 0.1112 - val_accuracy: 0.9639\n",
      "Epoch 4/10\n",
      "132/132 [==============================] - 206s 2s/step - loss: 0.2238 - accuracy: 0.9110 - val_loss: 0.0683 - val_accuracy: 0.9588\n",
      "Epoch 5/10\n",
      "132/132 [==============================] - 205s 2s/step - loss: 0.2506 - accuracy: 0.9125 - val_loss: 0.0068 - val_accuracy: 0.9536\n",
      "Epoch 6/10\n",
      "132/132 [==============================] - 211s 2s/step - loss: 0.2172 - accuracy: 0.9224 - val_loss: 0.1169 - val_accuracy: 0.9845\n",
      "Epoch 7/10\n",
      "132/132 [==============================] - 207s 2s/step - loss: 0.2019 - accuracy: 0.9307 - val_loss: 0.2055 - val_accuracy: 0.9794\n",
      "Epoch 8/10\n",
      "132/132 [==============================] - 206s 2s/step - loss: 0.1690 - accuracy: 0.9376 - val_loss: 0.4453 - val_accuracy: 0.9691\n",
      "Epoch 9/10\n",
      "132/132 [==============================] - 208s 2s/step - loss: 0.1864 - accuracy: 0.9269 - val_loss: 0.3026 - val_accuracy: 0.9639\n",
      "Epoch 10/10\n",
      "132/132 [==============================] - 206s 2s/step - loss: 0.1849 - accuracy: 0.9186 - val_loss: 0.0169 - val_accuracy: 0.9948\n"
     ]
    },
    {
     "data": {
      "text/plain": [
       "<keras.callbacks.callbacks.History at 0x21898a09208>"
      ]
     },
     "execution_count": 7,
     "metadata": {},
     "output_type": "execute_result"
    }
   ],
   "source": [
    "model.fit_generator(train_set, validation_data=test_set, epochs=10)"
   ]
  },
  {
   "cell_type": "code",
   "execution_count": 10,
   "metadata": {},
   "outputs": [],
   "source": [
    "import pickle\n",
    "with open('model_cnn.pkl', 'wb') as file:\n",
    "    pickle.dump(model, file)"
   ]
  },
  {
   "cell_type": "code",
   "execution_count": null,
   "metadata": {},
   "outputs": [],
   "source": []
  }
 ],
 "metadata": {
  "kernelspec": {
   "display_name": "Python 3",
   "language": "python",
   "name": "python3"
  },
  "language_info": {
   "codemirror_mode": {
    "name": "ipython",
    "version": 3
   },
   "file_extension": ".py",
   "mimetype": "text/x-python",
   "name": "python",
   "nbconvert_exporter": "python",
   "pygments_lexer": "ipython3",
   "version": "3.7.4"
  }
 },
 "nbformat": 4,
 "nbformat_minor": 2
}
