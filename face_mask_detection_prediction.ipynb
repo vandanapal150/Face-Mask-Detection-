{
 "cells": [
  {
   "cell_type": "code",
   "execution_count": 2,
   "metadata": {},
   "outputs": [
    {
     "name": "stderr",
     "output_type": "stream",
     "text": [
      "Using TensorFlow backend.\n"
     ]
    }
   ],
   "source": [
    "import cv2\n",
    "import pickle\n",
    "with open('model_cnn.pkl', 'rb') as file:\n",
    "    model = pickle.load(file)\n",
    "results = {0:'without mask', 1:'mask'}\n",
    "GR_dict = {0:(0, 0, 255), 1:(0, 255, 0)}\n",
    "rect_size = 2"
   ]
  },
  {
   "cell_type": "code",
   "execution_count": 7,
   "metadata": {},
   "outputs": [],
   "source": [
    "import numpy as np\n",
    "cap = cv2.VideoCapture(0)\n",
    "haarcascade = cv2.CascadeClassifier('haarcascade_frontalface_default.xml')\n",
    "while True:\n",
    "    (rval, im) = cap.read()\n",
    "    im = cv2.flip(im, 1, 1)\n",
    "    rectangle_size = cv2.resize(im, (im.shape[1] // rect_size, im.shape[0] // rect_size))\n",
    "    faces = haarcascade.detectMultiScale(rectangle_size)\n",
    "    for f in faces:\n",
    "        (x, y, w, h) = [v * rect_size for v in f]\n",
    "        face_img = im[y:y+h, x:x+w]\n",
    "        recta = cv2.resize(face_img, (150, 150))\n",
    "        normalized = recta/255.0\n",
    "        reshaped = np.reshape(normalized, (1, 150, 150, 3))\n",
    "        reshaped = np.vstack([reshaped])\n",
    "        result = model.predict(reshaped)\n",
    "        label = np.argmax(result, axis=1)[0]\n",
    "        cv2.rectangle(im, (x, y), (x+w, y+h), GR_dict[label], 2)\n",
    "        cv2.rectangle(im, (x, y-40), (x+w, y), GR_dict[label], -1)\n",
    "        cv2.putText(im, results[label], (x, y-10), cv2.FONT_HERSHEY_SIMPLEX, 0.8, (255, 255, 255), 2)\n",
    "    cv2.imshow('Camera', im)\n",
    "    key = cv2.waitKey(10)\n",
    "     \n",
    "    if key == 27:\n",
    "        break\n",
    "cap.release()\n",
    "cv2.destroyAllWindows()    "
   ]
  }
 ],
 "metadata": {
  "kernelspec": {
   "display_name": "Python 3",
   "language": "python",
   "name": "python3"
  },
  "language_info": {
   "codemirror_mode": {
    "name": "ipython",
    "version": 3
   },
   "file_extension": ".py",
   "mimetype": "text/x-python",
   "name": "python",
   "nbconvert_exporter": "python",
   "pygments_lexer": "ipython3",
   "version": "3.7.4"
  }
 },
 "nbformat": 4,
 "nbformat_minor": 2
}
